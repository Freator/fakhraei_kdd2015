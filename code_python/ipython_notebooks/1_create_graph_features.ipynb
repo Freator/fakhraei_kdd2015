{
 "cells": [
  {
   "cell_type": "code",
   "execution_count": null,
   "metadata": {
    "collapsed": false
   },
   "outputs": [],
   "source": [
    "import graphlab as gl\n",
    "import os\n",
    "import time"
   ]
  },
  {
   "cell_type": "code",
   "execution_count": null,
   "metadata": {
    "collapsed": false
   },
   "outputs": [],
   "source": [
    "# Files folder\n",
    "dataFolder = '../data/'\n",
    "featuresFolder = '../output/features/' \n",
    "if not os.path.exists(featuresFolder):\n",
    "    os.makedirs(featuresFolder)"
   ]
  },
  {
   "cell_type": "code",
   "execution_count": null,
   "metadata": {
    "collapsed": false
   },
   "outputs": [],
   "source": [
    "relations_sf = gl.SFrame.read_csv(dataFolder+'relations.csv', header=False, delimiter='\\t')\n",
    "relations_sf.rename({'X1':'day','X2':'time_ms','X3':'src','X4':'dst','X5':'relation'})"
   ]
  },
  {
   "cell_type": "code",
   "execution_count": null,
   "metadata": {
    "collapsed": false
   },
   "outputs": [],
   "source": [
    "usersData_sf = gl.SFrame.read_csv(dataFolder+'usersdata.csv', header=False, delimiter='\\t')\n",
    "usersData_sf.rename({'X1':'userId','X2':'sex','X3':'timePassedValidation','X4':'ageGroup','X5':'label'})"
   ]
  },
  {
   "cell_type": "code",
   "execution_count": null,
   "metadata": {
    "collapsed": false
   },
   "outputs": [],
   "source": [
    "# Creating graph features for one relation\n",
    "def ComputeFeature(activeRelation_sq, activeRelation_sf, usersData_sf, r_id, f_log, num_rows):\n",
    "    \n",
    "    outputStr = \"Relation_\"+r_id+\", \"+num_rows+\"\\n\"\n",
    "    \n",
    "    # The user ids to add features to\n",
    "    dataFeatures_sf = usersData_sf[['userId']]\n",
    "    \n",
    "    # PageRank Feature\n",
    "    print \"PageRank ...\"\n",
    "    timePoint = time.time()\n",
    "    data_m = gl.pagerank.create(activeRelation_sq, verbose=False)\n",
    "    dataTempFeature_sf = data_m['pagerank']\n",
    "    outputStr += \"Pagerank, \"+str(time.time()-timePoint)+\"\\n\"\n",
    "    dataTempFeature_sf.rename({'__id':'userId'})\n",
    "    dataFeatures_sf = dataFeatures_sf.join(dataTempFeature_sf, on='userId', how='left')\n",
    "    dataFeatures_sf.remove_column('delta')\n",
    "    \n",
    "    # Triangle Count Feature\n",
    "    print \"Triangle Count ...\"\n",
    "    timePoint = time.time()\n",
    "    data_m = gl.triangle_counting.create(activeRelation_sq, verbose=False)\n",
    "    dataTempFeature_sf = data_m['triangle_count']\n",
    "    outputStr += \"Triangle_Count, \"+str(time.time()-timePoint)+\"\\n\"\n",
    "    dataTempFeature_sf.rename({'__id':'userId'})\n",
    "    dataFeatures_sf = dataFeatures_sf.join(dataTempFeature_sf, on='userId', how='left')\n",
    "\n",
    "    # k-core Feature\n",
    "    print \"k-core ...\"\n",
    "    timePoint = time.time()\n",
    "    data_m = gl.kcore.create(activeRelation_sq, verbose=False)\n",
    "    dataTempFeature_sf = data_m['core_id']\n",
    "    outputStr += \"k-core, \"+str(time.time()-timePoint)+\"\\n\"\n",
    "    dataTempFeature_sf.rename({'__id':'userId'})\n",
    "    dataFeatures_sf = dataFeatures_sf.join(dataTempFeature_sf, on='userId', how='left')\n",
    "\n",
    "    # Graph Coloring Feature\n",
    "    print \"Graph Coloring ...\"        \n",
    "    timePoint = time.time()\n",
    "    data_m = gl.graph_coloring.create(activeRelation_sq, verbose=False)\n",
    "    dataTempFeature_sf = data_m['color_id']\n",
    "    outputStr += \"Graph_Coloring, \"+str(time.time()-timePoint)+\"\\n\"\n",
    "    dataTempFeature_sf.rename({'__id':'userId'})\n",
    "    dataFeatures_sf = dataFeatures_sf.join(dataTempFeature_sf, on='userId', how='left')\n",
    "\n",
    "    # Connected Components Feature\n",
    "    print \"Connected Components ...\"\n",
    "    timePoint = time.time()\n",
    "    data_m = gl.connected_components.create(activeRelation_sq, verbose=False)\n",
    "    dataTempFeature_sf = data_m['component_id']\n",
    "    outputStr += \"Connected_Components, \"+str(time.time()-timePoint)+\"\\n\"\n",
    "    dataTempFeature_sf = dataTempFeature_sf.join(data_m['component_size'], on='component_id', how='left')\n",
    "    dataTempFeature_sf.rename({'__id':'userId'})\n",
    "    dataFeatures_sf = dataFeatures_sf.join(dataTempFeature_sf, on='userId', how='left')\n",
    "    dataFeatures_sf.rename({'Count':'component_size'})\n",
    "\n",
    "    # Out-degree Feature\n",
    "    print \"Out-degree ...\"\n",
    "    timePoint = time.time()\n",
    "    dataTempFeature_sf = activeRelation_sf.groupby(\"src\", {'out_degree':gl.aggregate.COUNT()})\n",
    "    outputStr += \"out_degree, \"+str(time.time()-timePoint)+\"\\n\"\n",
    "    dataTempFeature_sf.rename({'src':'userId'})\n",
    "    dataFeatures_sf = dataFeatures_sf.join(dataTempFeature_sf, on='userId', how='left')\n",
    "\n",
    "    # In-degree Feature\n",
    "    print \"In-degree ...\"\n",
    "    timePoint = time.time()\n",
    "    dataTempFeature_sf = activeRelation_sf.groupby(\"dst\", {'in_degree':gl.aggregate.COUNT()})\n",
    "    outputStr += \"in_degree, \"+str(time.time()-timePoint)+\"\\n\"\n",
    "    dataTempFeature_sf.rename({'dst':'userId'})\n",
    "    dataFeatures_sf = dataFeatures_sf.join(dataTempFeature_sf, on='userId', how='left')\n",
    "    \n",
    "    # Filling the missing values\n",
    "    dataFeatures_sf = dataFeatures_sf.fillna('pagerank',0)\n",
    "    dataFeatures_sf = dataFeatures_sf.fillna('triangle_count',0)\n",
    "    dataFeatures_sf = dataFeatures_sf.fillna('core_id',0)\n",
    "    dataFeatures_sf = dataFeatures_sf.fillna('color_id',0)\n",
    "    dataFeatures_sf = dataFeatures_sf.fillna('component_id',0)\n",
    "    dataFeatures_sf = dataFeatures_sf.fillna('component_size',0)\n",
    "    dataFeatures_sf = dataFeatures_sf.fillna('out_degree',0)    \n",
    "    dataFeatures_sf = dataFeatures_sf.fillna('in_degree',0)    \n",
    "    \n",
    "    # Rename columns\n",
    "    dataFeatures_sf.rename({'pagerank':r_id+'_pagerank',\n",
    "                   'triangle_count':r_id+'_triangle_count',\n",
    "                   'core_id':r_id+'_core_id',\n",
    "                   'color_id':r_id+'_color_id',\n",
    "                   'component_id':r_id+'_component_id',\n",
    "                   'component_size':r_id+'_component_size',\n",
    "                   'out_degree':r_id+'_out_degree',\n",
    "                   'in_degree':r_id+'_in_degree'})\n",
    "    \n",
    "    outputStr += \" \\n\"\n",
    "    f_log.write(outputStr)\n",
    "    \n",
    "    return dataFeatures_sf"
   ]
  },
  {
   "cell_type": "code",
   "execution_count": null,
   "metadata": {
    "collapsed": false
   },
   "outputs": [],
   "source": [
    "# Dataset with all features\n",
    "dataFeaturesAll_sf = usersData_sf[['userId']]"
   ]
  },
  {
   "cell_type": "code",
   "execution_count": null,
   "metadata": {
    "collapsed": false
   },
   "outputs": [],
   "source": [
    "# log file for timing \n",
    "f_log = open(featuresFolder+'log_graph_features.csv','w')"
   ]
  },
  {
   "cell_type": "code",
   "execution_count": null,
   "metadata": {
    "collapsed": false
   },
   "outputs": [],
   "source": [
    "for i in range(1,8):\n",
    "    \n",
    "    print \"\\nComputing features for relation \"+str(i)\n",
    "    \n",
    "    # Select one relation\n",
    "    activeRelation_sf = relations_sf[relations_sf['relation']==i]\n",
    "    \n",
    "    # Creating the SGraph for one relation\n",
    "    activeRelation_sq = gl.SGraph()\n",
    "    activeRelation_sq = activeRelation_sq.add_vertices(vertices=usersData_sf, vid_field='userId')\n",
    "    activeRelation_sq = activeRelation_sq.add_edges(edges=activeRelation_sf, src_field='src', dst_field='dst')\n",
    "    \n",
    "    dataFeaturesInner_sf = ComputeFeature(activeRelation_sq, activeRelation_sf, usersData_sf, str(i), f_log, str(activeRelation_sf.num_rows()))\n",
    "    \n",
    "    dataFeaturesAll_sf = dataFeaturesAll_sf.join(dataFeaturesInner_sf, on='userId', how='left')    \n",
    "    \n",
    "f_log.close()"
   ]
  },
  {
   "cell_type": "code",
   "execution_count": null,
   "metadata": {
    "collapsed": false
   },
   "outputs": [],
   "source": [
    "# save the features \n",
    "# dataFeaturesAll_sf.save(featuresFolder+'graph_features_sf')\n",
    "dataFeaturesAll_sf.save(featuresFolder+'graph_features.csv', format='csv')"
   ]
  }
 ],
 "metadata": {
  "kernelspec": {
   "display_name": "Python 2",
   "language": "python",
   "name": "python2"
  },
  "language_info": {
   "codemirror_mode": {
    "name": "ipython",
    "version": 2
   },
   "file_extension": ".py",
   "mimetype": "text/x-python",
   "name": "python",
   "nbconvert_exporter": "python",
   "pygments_lexer": "ipython2",
   "version": "2.7.10"
  }
 },
 "nbformat": 4,
 "nbformat_minor": 0
}
