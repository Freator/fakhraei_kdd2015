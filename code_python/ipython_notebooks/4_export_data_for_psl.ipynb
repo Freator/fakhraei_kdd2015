{
 "cells": [
  {
   "cell_type": "code",
   "execution_count": null,
   "metadata": {
    "collapsed": false
   },
   "outputs": [],
   "source": [
    "import graphlab as gl\n",
    "import os\n",
    "import numpy as np"
   ]
  },
  {
   "cell_type": "code",
   "execution_count": null,
   "metadata": {
    "collapsed": false
   },
   "outputs": [],
   "source": [
    "# Files folder\n",
    "dataFolder = '../data/'\n",
    "pslFolder = '../output/psl/'\n",
    "if not os.path.exists(pslFolder):\n",
    "    os.makedirs(pslFolder)"
   ]
  },
  {
   "cell_type": "code",
   "execution_count": null,
   "metadata": {
    "collapsed": false,
    "scrolled": true
   },
   "outputs": [],
   "source": [
    "relations_sf = gl.SFrame.read_csv(dataFolder+'relations.csv', header=False, delimiter='\\t')\n",
    "relations_sf.rename({'X1':'day','X2':'time_ms','X3':'src','X4':'dst','X5':'relation'})"
   ]
  },
  {
   "cell_type": "code",
   "execution_count": null,
   "metadata": {
    "collapsed": false
   },
   "outputs": [],
   "source": [
    "usersData_sf = gl.SFrame.read_csv(dataFolder+'usersdata.csv', header=False, delimiter='\\t')\n",
    "usersData_sf.rename({'X1':'userId','X2':'sex','X3':'timePassedValidation','X4':'ageGroup','X5':'label'})"
   ]
  },
  {
   "cell_type": "code",
   "execution_count": null,
   "metadata": {
    "collapsed": false
   },
   "outputs": [],
   "source": [
    "reports_sf = relations_sf[relations_sf['relation']==7]"
   ]
  },
  {
   "cell_type": "code",
   "execution_count": null,
   "metadata": {
    "collapsed": false
   },
   "outputs": [],
   "source": [
    "reportedUsers_sf = reports_sf[['dst']].unique()\n",
    "reportedUsers_sf.rename({'dst':'userId'})"
   ]
  },
  {
   "cell_type": "code",
   "execution_count": null,
   "metadata": {
    "collapsed": false
   },
   "outputs": [],
   "source": [
    "reportedUsers_sf = reportedUsers_sf.join(usersData_sf, how='left')"
   ]
  },
  {
   "cell_type": "code",
   "execution_count": null,
   "metadata": {
    "collapsed": false
   },
   "outputs": [],
   "source": [
    "positive_sf = reportedUsers_sf.filter_by([1], \"label\")\n",
    "negative_sf = reportedUsers_sf.filter_by([0], \"label\")\n",
    "\n",
    "numOfFolds = 3\n",
    "np.random.seed(2015)\n",
    "\n",
    "positive_sf['fold']=np.random.random_sample(positive_sf.num_rows())\n",
    "positive_sf['fold']=positive_sf.apply(lambda x: int(x['fold']*numOfFolds)+1)\n",
    "positive_sf['shuffle'] = np.random.random_sample(positive_sf.num_rows())\n",
    "positive_sf = positive_sf.sort('shuffle')\n",
    "positive_sf.remove_column('shuffle')\n",
    "\n",
    "negative_sf['fold']=np.random.random_sample(negative_sf.num_rows())\n",
    "negative_sf['fold']=negative_sf.apply(lambda x: int(x['fold']*numOfFolds)+1)\n",
    "negative_sf['shuffle'] = np.random.random_sample(negative_sf.num_rows())\n",
    "negative_sf = negative_sf.sort('shuffle')\n",
    "negative_sf.remove_column('shuffle')\n",
    "\n",
    "fullDataset_sf = positive_sf\n",
    "fullDataset_sf = fullDataset_sf.append(negative_sf)"
   ]
  },
  {
   "cell_type": "code",
   "execution_count": null,
   "metadata": {
    "collapsed": false
   },
   "outputs": [],
   "source": [
    "# Exporting the SPAMMER predicate\n",
    "for currentFold in range(1,numOfFolds+1):\n",
    "\n",
    "    activeFold_sf = fullDataset_sf[fullDataset_sf['fold']==currentFold]\n",
    "    activeFold_sf = activeFold_sf.sort('userId')\n",
    "    activeFold_sf = activeFold_sf[['userId','label']]\n",
    "\n",
    "    fileOut = open(pslFolder+'spammer_fold_'+str(currentFold)+'.tsv','w')\n",
    "    fileNoLabelOut = open(pslFolder+'spammer_fold_'+str(currentFold)+'_nolabel.tsv','w')\n",
    "    for row in activeFold_sf:\n",
    "        fileOut.write( str(row['userId'])+'\\t'+str(row['label'])+'\\n')\n",
    "        fileNoLabelOut.write( str(row['userId'])+'\\n')\n",
    "    fileOut.close() \n",
    "    fileNoLabelOut.close() "
   ]
  },
  {
   "cell_type": "code",
   "execution_count": null,
   "metadata": {
    "collapsed": false
   },
   "outputs": [],
   "source": [
    "# Exporting the REPORTED predicate\n",
    "fileOut = open(pslFolder+'reported.tsv','w')\n",
    "reportsUnique_sf = reports_sf[['src','dst']].unique();\n",
    "for row in reportsUnique_sf:\n",
    "    fileOut.write( str(row['src'])+'\\t'+str(row['dst'])+'\\n')\n",
    "fileOut.close() "
   ]
  },
  {
   "cell_type": "code",
   "execution_count": null,
   "metadata": {
    "collapsed": false
   },
   "outputs": [],
   "source": [
    "reportsUnique_sf[reportsUnique_sf['src']==5234211]"
   ]
  },
  {
   "cell_type": "code",
   "execution_count": null,
   "metadata": {
    "collapsed": false
   },
   "outputs": [],
   "source": [
    "# Exporting PRIOR_CREDIBILITY predicate\n",
    "\n",
    "def writePriorCredibilityToFile(testFold,weightLearningFold):\n",
    "\n",
    "    # For Test Prediction\n",
    "    reportedUsersFold_sf = fullDataset_sf[fullDataset_sf['fold']!=testFold]\n",
    "\n",
    "    reportingUsersWithLabels_sf = reports_sf.join(reportedUsersFold_sf[['userId','label']], on={'dst':'userId'}, how='inner')[['src','label']]\n",
    "    reportingUsersWithLabelsCount_sf = reportingUsersWithLabels_sf.groupby(key_columns=['src','label'], operations={'labelReported': gl.aggregate.COUNT()})\n",
    "\n",
    "    reportingUsers_sf = reportingUsersWithLabels_sf.groupby(key_columns=['src'], operations={'totalReported': gl.aggregate.COUNT()})\n",
    "    reportingUsers_sf = reportingUsers_sf.join(reportingUsersWithLabelsCount_sf)\n",
    "    reportingUsers_sf['correctlyReported'] = reportingUsers_sf.apply(lambda x: float(x['labelReported'])/float(x['totalReported']))\n",
    "    reportingUsers_sf = reportingUsers_sf[reportingUsers_sf['label']==1]\n",
    "    reportingUsers_sf = reportingUsers_sf.join(reportingUsersWithLabels_sf[['src']].unique(), how='right')\n",
    "    reportingUsers_sf = reportingUsers_sf.fillna('correctlyReported',0)\n",
    "\n",
    "    reportingUsers_sf = reportingUsers_sf[['src','correctlyReported']]\n",
    "\n",
    "    priorCredibility_sf = reports_sf[['src']].unique().join(reportingUsers_sf, on={'src':'src'}, how='left').fillna('correctlyReported',0.5)\n",
    "\n",
    "    fileOut = open(pslFolder+'prior_credibility_test_fold_'+str(testFold)+'.tsv','w')\n",
    "    for row in priorCredibility_sf:\n",
    "        fileOut.write( str(row['src']) + '\\t' + str(round(row['correctlyReported'],2)) + '\\n' )\n",
    "    fileOut.close() \n",
    "    \n",
    "    # For Weight Learning Prediction\n",
    "    reportedUsersFoldWL_sf = reportedUsersFold_sf[reportedUsersFold_sf['fold']!=weightLearningFold]\n",
    "\n",
    "    reportingUsersWithLabelsWL_sf = reports_sf.join(reportedUsersFoldWL_sf[['userId','label']], on={'dst':'userId'}, how='inner')[['src','label']]\n",
    "    reportingUsersWithLabelsCountWL_sf = reportingUsersWithLabelsWL_sf.groupby(key_columns=['src','label'], operations={'labelReported': gl.aggregate.COUNT()})\n",
    "\n",
    "    reportingUsersWL_sf = reportingUsersWithLabelsWL_sf.groupby(key_columns=['src'], operations={'totalReported': gl.aggregate.COUNT()})\n",
    "    reportingUsersWL_sf = reportingUsersWL_sf.join(reportingUsersWithLabelsCountWL_sf)\n",
    "    reportingUsersWL_sf['correctlyReported'] = reportingUsersWL_sf.apply(lambda x: float(x['labelReported'])/float(x['totalReported']))\n",
    "    reportingUsersWL_sf = reportingUsersWL_sf[reportingUsersWL_sf['label']==1]\n",
    "    reportingUsersWL_sf = reportingUsersWL_sf.join(reportingUsersWithLabelsWL_sf[['src']].unique(), how='right')\n",
    "    reportingUsersWL_sf = reportingUsersWL_sf.fillna('correctlyReported',0)\n",
    "\n",
    "    reportingUsersWL_sf = reportingUsersWL_sf[['src','correctlyReported']]\n",
    "\n",
    "    priorCredibilityWL_sf = reports_sf[['src']].unique().join(reportingUsersWL_sf, on={'src':'src'}, how='left').fillna('correctlyReported',0.5)\n",
    "    \n",
    "    fileOut = open(pslFolder+'prior_credibility_weightlearning_fold_'+str(testFold)+'.tsv','w')\n",
    "    for row in priorCredibilityWL_sf:\n",
    "        fileOut.write( str(row['src']) + '\\t' + str(round(row['correctlyReported'],2)) + '\\n' )\n",
    "    fileOut.close() "
   ]
  },
  {
   "cell_type": "code",
   "execution_count": null,
   "metadata": {
    "collapsed": false
   },
   "outputs": [],
   "source": [
    "for i in range (1, numOfFolds+1):\n",
    "    if i!=numOfFolds:\n",
    "        writePriorCredibilityToFile(i,i+1)\n",
    "    else:\n",
    "        writePriorCredibilityToFile(i,1)"
   ]
  }
 ],
 "metadata": {
  "kernelspec": {
   "display_name": "Python 2",
   "language": "python",
   "name": "python2"
  },
  "language_info": {
   "codemirror_mode": {
    "name": "ipython",
    "version": 2
   },
   "file_extension": ".py",
   "mimetype": "text/x-python",
   "name": "python",
   "nbconvert_exporter": "python",
   "pygments_lexer": "ipython2",
   "version": "2.7.10"
  }
 },
 "nbformat": 4,
 "nbformat_minor": 0
}
