{
 "cells": [
  {
   "cell_type": "code",
   "execution_count": null,
   "metadata": {
    "collapsed": false
   },
   "outputs": [],
   "source": [
    "# The \"relations.csv\" should already be sorted based on day and time_ms, otherwise use the Linux sort command first:\n",
    "# sort -k3n -k1n -k2n relations.csv > relations_sorted.csv"
   ]
  },
  {
   "cell_type": "code",
   "execution_count": null,
   "metadata": {
    "collapsed": false
   },
   "outputs": [],
   "source": [
    "import os"
   ]
  },
  {
   "cell_type": "code",
   "execution_count": null,
   "metadata": {
    "collapsed": false
   },
   "outputs": [],
   "source": [
    "# Files folder\n",
    "dataFolder = '../data/'\n",
    "featuresFolder = '../output/features/' \n",
    "if not os.path.exists(featuresFolder):\n",
    "    os.makedirs(featuresFolder)"
   ]
  },
  {
   "cell_type": "code",
   "execution_count": null,
   "metadata": {
    "collapsed": false
   },
   "outputs": [],
   "source": [
    "# Creating the epmty bigram features\n",
    "bigram_dic = {}\n",
    "\n",
    "for relation1 in range(0, 8):\n",
    "    for relation2 in range(0, 8):\n",
    "        bigram_dic[str(relation1),str(relation2)] = 0"
   ]
  },
  {
   "cell_type": "code",
   "execution_count": null,
   "metadata": {
    "collapsed": false
   },
   "outputs": [],
   "source": [
    "# Doing one pass on the relations file and counting the bigram features\n",
    "\n",
    "sequenceFeatures_dic = {}\n",
    "lineCount = 0\n",
    "previousSrc = '0'\n",
    "previousDst = '0'\n",
    "previousRelation = '0'\n",
    "with open(dataFolder+'relations.csv','r') as f:\n",
    "    for line in f:\n",
    "        lineVal = line.rstrip('\\n').split('\\t')\n",
    "        if lineVal[2] != previousSrc:\n",
    "            if previousSrc != '0':\n",
    "                sequenceFeatures_dic[previousSrc] = bigram_dic\n",
    "            previousSrc = lineVal[2]\n",
    "            previousRelation = '0'\n",
    "            bigram_dic = dict.fromkeys(bigram_dic, 0)\n",
    "        if lineVal[3] != previousDst or lineVal[4] != previousRelation:\n",
    "            previousDst = lineVal[3]\n",
    "            if previousRelation != '':\n",
    "                bigram_dic[previousRelation,lineVal[4]] += 1\n",
    "        previousRelation = lineVal[4]\n",
    "                \n",
    "        lineCount += 1\n",
    "        #if lineCount > 10000:\n",
    "        #    break\n",
    "    \n",
    "# Last user\n",
    "sequenceFeatures_dic[previousSrc] = bigram_dic"
   ]
  },
  {
   "cell_type": "code",
   "execution_count": null,
   "metadata": {
    "collapsed": false
   },
   "outputs": [],
   "source": [
    "# Saving the bigram features on a file\n",
    "\n",
    "f = open(featuresFolder+'sequence_bigram_features.csv','w')\n",
    "\n",
    "outputStr = 'userId'\n",
    "\n",
    "for relation1 in range(0, 8):\n",
    "    for relation2 in range(0, 8):\n",
    "        outputStr += ', '+str(relation1)+'_'+str(relation2)\n",
    "        \n",
    "f.write(outputStr+'\\n')\n",
    "\n",
    "#for userId,features in sequenceFeatures_dic.iteritems():\n",
    "for userId in range(1,5607449):\n",
    "    if str(userId).zfill(7) in sequenceFeatures_dic:\n",
    "        features = sequenceFeatures_dic[str(userId).zfill(7)]\n",
    "        outputStr = ''\n",
    "        outputStr = str(userId).zfill(7)\n",
    "        for relation1 in range(0, 8):\n",
    "            for relation2 in range(0, 8):\n",
    "                outputStr += ', '+str(features[str(relation1),str(relation2)])\n",
    "        f.write(outputStr+'\\n')\n",
    "\n",
    "f.close()"
   ]
  },
  {
   "cell_type": "code",
   "execution_count": null,
   "metadata": {
    "collapsed": false
   },
   "outputs": [],
   "source": []
  }
 ],
 "metadata": {
  "kernelspec": {
   "display_name": "Python 2",
   "language": "python",
   "name": "python2"
  },
  "language_info": {
   "codemirror_mode": {
    "name": "ipython",
    "version": 2
   },
   "file_extension": ".py",
   "mimetype": "text/x-python",
   "name": "python",
   "nbconvert_exporter": "python",
   "pygments_lexer": "ipython2",
   "version": "2.7.10"
  }
 },
 "nbformat": 4,
 "nbformat_minor": 0
}
